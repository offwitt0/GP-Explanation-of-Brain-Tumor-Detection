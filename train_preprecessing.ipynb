{
 "cells": [
  {
   "cell_type": "markdown",
   "metadata": {},
   "source": [
    "# Dataset Link\n",
    "https://www.kaggle.com/datasets/masoudnickparvar/brain-tumor-mri-dataset"
   ]
  },
  {
   "cell_type": "code",
   "execution_count": 1,
   "metadata": {},
   "outputs": [],
   "source": [
    "# Importing the libraries\n",
    "import cv2\n",
    "import os\n",
    "import matplotlib.pyplot as plt\n",
    "import pandas as pd\n",
    "import numpy as np\n",
    "import glob as gb\n",
    "from PIL import Image\n",
    "import tensorflow as tf\n",
    "from tensorflow import keras\n",
    "from sklearn.model_selection import train_test_split\n",
    "from keras.utils import normalize\n",
    "from IPython.display import Image as IPyImage\n",
    "from keras.preprocessing import image as TensorImage\n",
    "from keras.preprocessing.image import ImageDataGenerator\n",
    "\n"
   ]
  },
  {
   "cell_type": "code",
   "execution_count": 2,
   "metadata": {},
   "outputs": [],
   "source": [
    "train_data_path = 'Brain Tumor MRI Dataset/Training/'\n",
    "test_data_path = 'Brain Tumor MRI Dataset/Testing/'"
   ]
  },
  {
   "cell_type": "code",
   "execution_count": 3,
   "metadata": {},
   "outputs": [
    {
     "name": "stdout",
     "output_type": "stream",
     "text": [
      "(512, 512)       1195\n",
      "(512, 512, 3)     105\n",
      "Name: count, dtype: int64\n"
     ]
    }
   ],
   "source": [
    "size = []\n",
    "files = gb.glob(pathname= str(train_data_path +'glioma/' + '/*.jpg'))\n",
    "for file in files: \n",
    "    image = plt.imread(file)\n",
    "    size.append(image.shape)\n",
    "my_ser = pd.Series(size).value_counts()\n",
    "print(my_ser)"
   ]
  },
  {
   "cell_type": "code",
   "execution_count": 4,
   "metadata": {},
   "outputs": [],
   "source": [
    "glioma_tumor_image = os.listdir(train_data_path + 'glioma/')\n",
    "meningioma_tumor_image = os.listdir(train_data_path + 'meningioma/')\n",
    "notumor_image = os.listdir(train_data_path + 'notumor/')\n",
    "pituitary_tumor_image = os.listdir(train_data_path + 'pituitary/')\n",
    "dataset = []\n",
    "label = []"
   ]
  },
  {
   "cell_type": "code",
   "execution_count": 5,
   "metadata": {},
   "outputs": [],
   "source": [
    "s = 256"
   ]
  },
  {
   "cell_type": "markdown",
   "metadata": {},
   "source": [
    "# Resize glioma images"
   ]
  },
  {
   "cell_type": "code",
   "execution_count": 6,
   "metadata": {},
   "outputs": [],
   "source": [
    "# Set the target size\n",
    "target_size = (s, s)\n",
    "target_mode = 'RGB'\n",
    "\n",
    "# Input and output directories\n",
    "input_folder = 'Brain Tumor MRI Dataset/Training/glioma'\n",
    "output_folder = 'train_prepared/glioma'\n",
    "\n",
    "# List all files in the input directory\n",
    "input_files = os.listdir(input_folder)\n",
    "\n",
    "for input_file in input_files:\n",
    "    # Construct the full file paths\n",
    "    input_path = os.path.join(input_folder, input_file)\n",
    "    output_path = os.path.join(output_folder, input_file)\n",
    "\n",
    "    # Open the image\n",
    "    image = Image.open(input_path)\n",
    "\n",
    "    # Convert the image to RGB mode to ensure it has 3 channels\n",
    "    image = image.convert(target_mode)\n",
    "    \n",
    "    # Resize the image\n",
    "    image = image.resize(target_size)\n",
    "\n",
    "    # Save the resized image to the output directory\n",
    "    image.save(output_path)\n",
    "\n",
    "# Optionally, you can also close the image file to release resources\n",
    "image.close()\n"
   ]
  },
  {
   "cell_type": "code",
   "execution_count": 7,
   "metadata": {},
   "outputs": [
    {
     "name": "stdout",
     "output_type": "stream",
     "text": [
      "(256, 256, 3)    1300\n",
      "Name: count, dtype: int64\n"
     ]
    }
   ],
   "source": [
    "size = []\n",
    "files = gb.glob(pathname= str(output_folder + '/*.jpg'))\n",
    "for file in files: \n",
    "    image = plt.imread(file)\n",
    "    size.append(image.shape)\n",
    "my_ser = pd.Series(size).value_counts()\n",
    "print(my_ser)"
   ]
  },
  {
   "cell_type": "markdown",
   "metadata": {},
   "source": [
    "# Resize meningioma images"
   ]
  },
  {
   "cell_type": "code",
   "execution_count": 8,
   "metadata": {},
   "outputs": [],
   "source": [
    "# Set the target size\n",
    "target_size = (s, s)\n",
    "target_mode = 'RGB'\n",
    "\n",
    "# Input and output directories\n",
    "input_folder = 'Brain Tumor MRI Dataset/Training/meningioma'\n",
    "output_folder = 'train_prepared/meningioma/'\n",
    "\n",
    "# List all files in the input directory\n",
    "input_files = os.listdir(input_folder)\n",
    "\n",
    "for input_file in input_files:\n",
    "    # Construct the full file paths\n",
    "    input_path = os.path.join(input_folder, input_file)\n",
    "    output_path = os.path.join(output_folder, input_file)\n",
    "\n",
    "    # Open the image\n",
    "    image = Image.open(input_path)\n",
    "\n",
    "    # Convert the image to RGB mode to ensure it has 3 channels\n",
    "    image = image.convert(target_mode)\n",
    "    \n",
    "    # Resize the image\n",
    "    image = image.resize(target_size)\n",
    "\n",
    "    # Save the resized image to the output directory\n",
    "    image.save(output_path)\n",
    "\n",
    "# Optionally, you can also close the image file to release resources\n",
    "image.close()\n"
   ]
  },
  {
   "cell_type": "code",
   "execution_count": 9,
   "metadata": {},
   "outputs": [
    {
     "name": "stdout",
     "output_type": "stream",
     "text": [
      "(256, 256, 3)    1300\n",
      "Name: count, dtype: int64\n"
     ]
    }
   ],
   "source": [
    "size = []\n",
    "files = gb.glob(pathname= str(output_folder + '/*.jpg'))\n",
    "for file in files: \n",
    "    image = plt.imread(file)\n",
    "    size.append(image.shape)\n",
    "my_ser = pd.Series(size).value_counts()\n",
    "print(my_ser)"
   ]
  },
  {
   "cell_type": "markdown",
   "metadata": {},
   "source": [
    "# Resize notumor images"
   ]
  },
  {
   "cell_type": "code",
   "execution_count": 10,
   "metadata": {},
   "outputs": [],
   "source": [
    "# Set the target size\n",
    "target_size = (s, s)\n",
    "target_mode = 'RGB'\n",
    "\n",
    "# Input and output directories\n",
    "input_folder = 'Brain Tumor MRI Dataset/Training/notumor'\n",
    "output_folder = 'train_prepared/notumor/'\n",
    "\n",
    "# List all files in the input directory\n",
    "input_files = os.listdir(input_folder)\n",
    "\n",
    "for input_file in input_files:\n",
    "    # Construct the full file paths\n",
    "    input_path = os.path.join(input_folder, input_file)\n",
    "    output_path = os.path.join(output_folder, input_file)\n",
    "\n",
    "    # Open the image\n",
    "    image = Image.open(input_path)\n",
    "\n",
    "    # Convert the image to RGB mode to ensure it has 3 channels\n",
    "    image = image.convert(target_mode)\n",
    "    \n",
    "    # Resize the image\n",
    "    image = image.resize(target_size)\n",
    "\n",
    "    # Save the resized image to the output directory\n",
    "    image.save(output_path)\n",
    "\n",
    "# Optionally, you can also close the image file to release resources\n",
    "image.close()\n"
   ]
  },
  {
   "cell_type": "code",
   "execution_count": 11,
   "metadata": {},
   "outputs": [
    {
     "name": "stdout",
     "output_type": "stream",
     "text": [
      "(256, 256, 3)    1300\n",
      "Name: count, dtype: int64\n"
     ]
    }
   ],
   "source": [
    "size = []\n",
    "files = gb.glob(pathname= str(output_folder + '/*.jpg'))\n",
    "for file in files: \n",
    "    image = plt.imread(file)\n",
    "    size.append(image.shape)\n",
    "my_ser = pd.Series(size).value_counts()\n",
    "print(my_ser)"
   ]
  },
  {
   "cell_type": "markdown",
   "metadata": {},
   "source": [
    "# Resize pituitary images"
   ]
  },
  {
   "cell_type": "code",
   "execution_count": 12,
   "metadata": {},
   "outputs": [],
   "source": [
    "# Set the target size\n",
    "target_size = (s, s)\n",
    "target_mode = 'RGB'\n",
    "\n",
    "# Input and output directories\n",
    "input_folder = 'Brain Tumor MRI Dataset/Training/pituitary'\n",
    "output_folder = 'train_prepared/pituitary/'\n",
    "\n",
    "# List all files in the input directory\n",
    "input_files = os.listdir(input_folder)\n",
    "\n",
    "for input_file in input_files:\n",
    "    # Construct the full file paths\n",
    "    input_path = os.path.join(input_folder, input_file)\n",
    "    output_path = os.path.join(output_folder, input_file)\n",
    "\n",
    "    # Open the image\n",
    "    image = Image.open(input_path)\n",
    "\n",
    "    # Convert the image to RGB mode to ensure it has 3 channels\n",
    "    image = image.convert(target_mode)\n",
    "    \n",
    "    # Resize the image\n",
    "    image = image.resize(target_size)\n",
    "\n",
    "    # Save the resized image to the output directory\n",
    "    image.save(output_path)\n",
    "\n",
    "# Optionally, you can also close the image file to release resources\n",
    "image.close()"
   ]
  },
  {
   "cell_type": "code",
   "execution_count": 13,
   "metadata": {},
   "outputs": [
    {
     "name": "stdout",
     "output_type": "stream",
     "text": [
      "(256, 256, 3)    1300\n",
      "Name: count, dtype: int64\n"
     ]
    }
   ],
   "source": [
    "size = []\n",
    "files = gb.glob(pathname= str(output_folder + '/*.jpg'))\n",
    "for file in files: \n",
    "    image = plt.imread(file)\n",
    "    size.append(image.shape)\n",
    "my_ser = pd.Series(size).value_counts()\n",
    "print(my_ser)"
   ]
  },
  {
   "cell_type": "markdown",
   "metadata": {},
   "source": [
    "# Data agumentation"
   ]
  },
  {
   "cell_type": "markdown",
   "metadata": {},
   "source": [
    "## glioma agumentation"
   ]
  },
  {
   "cell_type": "code",
   "execution_count": 26,
   "metadata": {},
   "outputs": [
    {
     "name": "stdout",
     "output_type": "stream",
     "text": [
      "Augmentation complete.\n"
     ]
    }
   ],
   "source": [
    "# Define the path to the \"no\" images\n",
    "resized_glioma_image = 'train_prepared/glioma'\n",
    "\n",
    "# Create an instance of ImageDataGenerator with augmentation settings\n",
    "datagen = ImageDataGenerator(\n",
    "    rotation_range=15,      # Randomly rotate the image within the range [-15, 15] degrees\n",
    "    width_shift_range=0.1,  # Randomly shift the width of the image by up to 10%\n",
    "    height_shift_range=0.1, # Randomly shift the height of the image by up to 10%\n",
    "    shear_range=0.2,        # Shear transformation\n",
    "    zoom_range=0.2,         # Randomly zoom in/out up to 20%\n",
    "    horizontal_flip=True,   # Randomly flip the image horizontally\n",
    "    vertical_flip=False,    # Don't flip vertically (as MRI scans are typically acquired from one direction)\n",
    "    fill_mode='nearest'     # Fill in empty areas using the nearest pixel value\n",
    ")\n",
    "\n",
    "# Create a list of MRI image files in your data directory\n",
    "glioma_image_files = [os.path.join(resized_glioma_image, file) for file in os.listdir(resized_glioma_image) if file.endswith('.jpg')]\n",
    "\n",
    "# Create a directory to save augmented images\n",
    "augmented_dir = resized_glioma_image\n",
    "\n",
    "# Define the number of augmentations you want for each image\n",
    "augmentation_count = 10\n",
    "\n",
    "# Loop through MRI images and perform data augmentation\n",
    "for img_path in glioma_image_files:\n",
    "    # Load the image\n",
    "    img = TensorImage.load_img(img_path)\n",
    "\n",
    "    # Convert the image to a NumPy array\n",
    "    img_array = TensorImage.img_to_array(img)\n",
    "    img_array = np.expand_dims(img_array, axis=0)  # Add an extra dimension for batch size\n",
    "\n",
    "    # Generate and save augmented images\n",
    "    for i in range(augmentation_count):\n",
    "        for batch in datagen.flow(img_array, batch_size=1):\n",
    "            augmented_img = TensorImage.array_to_img(batch[0])\n",
    "            augmented_img.save(os.path.join(augmented_dir, f'augmented_image_{i}_{os.path.basename(img_path)}'))\n",
    "            break\n",
    "\n",
    "print(\"Augmentation complete.\")"
   ]
  },
  {
   "cell_type": "markdown",
   "metadata": {},
   "source": [
    "## meningioma agumentation"
   ]
  },
  {
   "cell_type": "code",
   "execution_count": 27,
   "metadata": {},
   "outputs": [
    {
     "name": "stdout",
     "output_type": "stream",
     "text": [
      "Augmentation complete.\n"
     ]
    }
   ],
   "source": [
    "# Define the path to the \"no\" images\n",
    "resized_meningioma_image = 'train_prepared/meningioma'\n",
    "\n",
    "# Create an instance of ImageDataGenerator with augmentation settings\n",
    "datagen = ImageDataGenerator(\n",
    "    rotation_range=15,      # Randomly rotate the image within the range [-15, 15] degrees\n",
    "    width_shift_range=0.1,  # Randomly shift the width of the image by up to 10%\n",
    "    height_shift_range=0.1, # Randomly shift the height of the image by up to 10%\n",
    "    shear_range=0.2,        # Shear transformation\n",
    "    zoom_range=0.2,         # Randomly zoom in/out up to 20%\n",
    "    horizontal_flip=True,   # Randomly flip the image horizontally\n",
    "    vertical_flip=False,    # Don't flip vertically (as MRI scans are typically acquired from one direction)\n",
    "    fill_mode='nearest'     # Fill in empty areas using the nearest pixel value\n",
    ")\n",
    "\n",
    "# Create a list of MRI image files in your data directory\n",
    "meningioma_image_files = [os.path.join(resized_meningioma_image, file) for file in os.listdir(resized_meningioma_image) if file.endswith('.jpg')]\n",
    "\n",
    "# Create a directory to save augmented images\n",
    "augmented_dir = resized_meningioma_image\n",
    "\n",
    "# Define the number of augmentations you want for each image\n",
    "augmentation_count = 10\n",
    "\n",
    "# Loop through MRI images and perform data augmentation\n",
    "for img_path in meningioma_image_files:\n",
    "    # Load the image\n",
    "    img = TensorImage.load_img(img_path)\n",
    "\n",
    "    # Convert the image to a NumPy array\n",
    "    img_array = TensorImage.img_to_array(img)\n",
    "    img_array = np.expand_dims(img_array, axis=0)  # Add an extra dimension for batch size\n",
    "\n",
    "    # Generate and save augmented images\n",
    "    for i in range(augmentation_count):\n",
    "        for batch in datagen.flow(img_array, batch_size=1):\n",
    "            augmented_img = TensorImage.array_to_img(batch[0])\n",
    "            augmented_img.save(os.path.join(augmented_dir, f'augmented_image_{i}_{os.path.basename(img_path)}'))\n",
    "            break\n",
    "\n",
    "print(\"Augmentation complete.\")"
   ]
  },
  {
   "cell_type": "markdown",
   "metadata": {},
   "source": [
    "## notumor agumentation"
   ]
  },
  {
   "cell_type": "code",
   "execution_count": 28,
   "metadata": {},
   "outputs": [
    {
     "name": "stdout",
     "output_type": "stream",
     "text": [
      "Augmentation complete.\n"
     ]
    }
   ],
   "source": [
    "# Define the path to the \"no\" images\n",
    "resized_notumor_image = 'train_prepared/notumor'\n",
    "\n",
    "# Create an instance of ImageDataGenerator with augmentation settings\n",
    "datagen = ImageDataGenerator(\n",
    "    rotation_range=15,      # Randomly rotate the image within the range [-15, 15] degrees\n",
    "    width_shift_range=0.1,  # Randomly shift the width of the image by up to 10%\n",
    "    height_shift_range=0.1, # Randomly shift the height of the image by up to 10%\n",
    "    shear_range=0.2,        # Shear transformation\n",
    "    zoom_range=0.2,         # Randomly zoom in/out up to 20%\n",
    "    horizontal_flip=True,   # Randomly flip the image horizontally\n",
    "    vertical_flip=False,    # Don't flip vertically (as MRI scans are typically acquired from one direction)\n",
    "    fill_mode='nearest'     # Fill in empty areas using the nearest pixel value\n",
    ")\n",
    "\n",
    "# Create a list of MRI image files in your data directory\n",
    "notumor_image_files = [os.path.join(resized_notumor_image, file) for file in os.listdir(resized_notumor_image) if file.endswith('.jpg')]\n",
    "\n",
    "# Create a directory to save augmented images\n",
    "augmented_dir = resized_notumor_image\n",
    "\n",
    "# Define the number of augmentations you want for each image\n",
    "augmentation_count = 10\n",
    "\n",
    "# Loop through MRI images and perform data augmentation\n",
    "for img_path in notumor_image_files:\n",
    "    # Load the image\n",
    "    img = TensorImage.load_img(img_path)\n",
    "\n",
    "    # Convert the image to a NumPy array\n",
    "    img_array = TensorImage.img_to_array(img)\n",
    "    img_array = np.expand_dims(img_array, axis=0)  # Add an extra dimension for batch size\n",
    "\n",
    "    # Generate and save augmented images\n",
    "    for i in range(augmentation_count):\n",
    "        for batch in datagen.flow(img_array, batch_size=1):\n",
    "            augmented_img = TensorImage.array_to_img(batch[0])\n",
    "            augmented_img.save(os.path.join(augmented_dir, f'augmented_image_{i}_{os.path.basename(img_path)}'))\n",
    "            break\n",
    "\n",
    "print(\"Augmentation complete.\")"
   ]
  },
  {
   "cell_type": "markdown",
   "metadata": {},
   "source": [
    "## pituitary agumentation"
   ]
  },
  {
   "cell_type": "code",
   "execution_count": 29,
   "metadata": {},
   "outputs": [
    {
     "name": "stdout",
     "output_type": "stream",
     "text": [
      "Augmentation complete.\n"
     ]
    }
   ],
   "source": [
    "# Define the path to the \"no\" images\n",
    "resized_pituitary_image = 'train_prepared/pituitary'\n",
    "\n",
    "# Create an instance of ImageDataGenerator with augmentation settings\n",
    "datagen = ImageDataGenerator(\n",
    "    rotation_range=15,      # Randomly rotate the image within the range [-15, 15] degrees\n",
    "    width_shift_range=0.1,  # Randomly shift the width of the image by up to 10%\n",
    "    height_shift_range=0.1, # Randomly shift the height of the image by up to 10%\n",
    "    shear_range=0.2,        # Shear transformation\n",
    "    zoom_range=0.2,         # Randomly zoom in/out up to 20%\n",
    "    horizontal_flip=True,   # Randomly flip the image horizontally\n",
    "    vertical_flip=False,    # Don't flip vertically (as MRI scans are typically acquired from one direction)\n",
    "    fill_mode='nearest'     # Fill in empty areas using the nearest pixel value\n",
    ")\n",
    "\n",
    "# Create a list of MRI image files in your data directory\n",
    "pituitary_image_files = [os.path.join(resized_pituitary_image, file) for file in os.listdir(resized_pituitary_image) if file.endswith('.jpg')]\n",
    "\n",
    "# Create a directory to save augmented images\n",
    "augmented_dir = resized_pituitary_image\n",
    "\n",
    "# Define the number of augmentations you want for each image\n",
    "augmentation_count = 10\n",
    "\n",
    "# Loop through MRI images and perform data augmentation\n",
    "for img_path in pituitary_image_files:\n",
    "    # Load the image\n",
    "    img = TensorImage.load_img(img_path)\n",
    "\n",
    "    # Convert the image to a NumPy array\n",
    "    img_array = TensorImage.img_to_array(img)\n",
    "    img_array = np.expand_dims(img_array, axis=0)  # Add an extra dimension for batch size\n",
    "\n",
    "    # Generate and save augmented images\n",
    "    for i in range(augmentation_count):\n",
    "        for batch in datagen.flow(img_array, batch_size=1):\n",
    "            augmented_img = TensorImage.array_to_img(batch[0])\n",
    "            augmented_img.save(os.path.join(augmented_dir, f'augmented_image_{i}_{os.path.basename(img_path)}'))\n",
    "            break\n",
    "\n",
    "print(\"Augmentation complete.\")"
   ]
  }
 ],
 "metadata": {
  "kernelspec": {
   "display_name": "Python 3",
   "language": "python",
   "name": "python3"
  },
  "language_info": {
   "codemirror_mode": {
    "name": "ipython",
    "version": 3
   },
   "file_extension": ".py",
   "mimetype": "text/x-python",
   "name": "python",
   "nbconvert_exporter": "python",
   "pygments_lexer": "ipython3",
   "version": "3.10.6"
  }
 },
 "nbformat": 4,
 "nbformat_minor": 2
}
